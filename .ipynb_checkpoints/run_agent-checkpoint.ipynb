{
 "cells": [
  {
   "cell_type": "code",
   "execution_count": null,
   "metadata": {},
   "outputs": [
    {
     "name": "stderr",
     "output_type": "stream",
     "text": [
      "Using TensorFlow backend.\n"
     ]
    },
    {
     "name": "stdout",
     "output_type": "stream",
     "text": [
      "Initial Change state to be added <state.PoolingState object at 0x7fecd8104860>\n",
      "states.POOL getting called\n",
      "Change state to be added <state.FullyConnectedState object at 0x7fecd8116f28>\n",
      "states.FULLY getting called\n",
      "FullyConnectedLayersNumber---> 1\n",
      "Change state to be added <state.TerminationState object at 0x7fecd8104518>\n",
      "Convnet--->>>> (<state.PoolingState object at 0x7fecd8104860>, <state.FullyConnectedState object at 0x7fecd8116f28>, <state.TerminationState object at 0x7fecd8104518>)\n",
      "Pool\n",
      "Fully\n",
      "Terminate\n",
      "_________________________________________________________________\n",
      "Layer (type)                 Output Shape              Param #   \n",
      "=================================================================\n",
      "max_pooling2d_1 (MaxPooling2 (None, 5, 5, 1)           0         \n",
      "_________________________________________________________________\n",
      "flatten_1 (Flatten)          (None, 25)                0         \n",
      "_________________________________________________________________\n",
      "dense_1 (Dense)              (None, 256)               6656      \n",
      "_________________________________________________________________\n",
      "dense_2 (Dense)              (None, 10)                2570      \n",
      "=================================================================\n",
      "Total params: 9,226\n",
      "Trainable params: 9,226\n",
      "Non-trainable params: 0\n",
      "_________________________________________________________________\n"
     ]
    },
    {
     "name": "stderr",
     "output_type": "stream",
     "text": [
      "/home/satya/PycharmProjects/Capstone/cnn.py:88: UserWarning: The `nb_epoch` argument in `fit` has been renamed `epochs`.\n",
      "  nb_epoch=self.numOfEpochs, verbose=1)\n"
     ]
    },
    {
     "name": "stdout",
     "output_type": "stream",
     "text": [
      "Epoch 1/2\n",
      "60000/60000 [==============================] - 3s 44us/step - loss: 1.1018 - acc: 0.6611\n",
      "Epoch 2/2\n",
      "60000/60000 [==============================] - 2s 41us/step - loss: 0.8761 - acc: 0.7117\n",
      "[0.8338376237869263, 0.7239]\n",
      "StateActionPair ((<state.InitialState object at 0x7fec9e734fd0>, <state.PoolingState object at 0x7fecd8104860>), (<state.PoolingState object at 0x7fecd8104860>, <state.FullyConnectedState object at 0x7fecd8116f28>), (<state.FullyConnectedState object at 0x7fecd8116f28>, <state.TerminationState object at 0x7fecd8104518>))\n",
      "reward Here 0.7239\n",
      "Debug::States for maxQ: <state.ConvolutionState object at 0x7fecd8113e10>\n",
      "getMaxQValueOfNextState 0.0\n",
      "reward 0.7239\n",
      "Debug::States for maxQ: <state.FullyConnectedState object at 0x7fecd8116f98>\n",
      "getMaxQValueOfNextState 0.0\n",
      "reward 0.7239\n",
      "Model Trained!!\n",
      "Initial Change state to be added <state.PoolingState object at 0x7fecd8116e80>\n",
      "states.POOL getting called\n",
      "Change state to be added <state.ConvolutionState object at 0x7fecd8113e10>\n",
      "states.CONV getting called\n",
      "Change state to be added <state.ConvolutionState object at 0x7fecd8104eb8>\n",
      "states.CONV getting called\n",
      "Change state to be added <state.FullyConnectedState object at 0x7fecd8116748>\n",
      "states.FULLY getting called\n",
      "FullyConnectedLayersNumber---> 1\n",
      "Change state to be added <state.FullyConnectedState object at 0x7fecd8116f28>\n",
      "Else getting called in agent\n",
      "Change state to be added <state.TerminationState object at 0x7fecd8104518>\n",
      "Convnet--->>>> (<state.PoolingState object at 0x7fecd8116e80>, <state.ConvolutionState object at 0x7fecd8113e10>, <state.ConvolutionState object at 0x7fecd8104eb8>, <state.FullyConnectedState object at 0x7fecd8116748>, <state.FullyConnectedState object at 0x7fecd8116f28>, <state.TerminationState object at 0x7fecd8104518>)\n",
      "Pool\n",
      "Conv\n",
      "Conv\n",
      "Fully\n",
      "Fully\n",
      "Terminate\n",
      "_________________________________________________________________\n",
      "Layer (type)                 Output Shape              Param #   \n",
      "=================================================================\n",
      "max_pooling2d_2 (MaxPooling2 (None, 14, 14, 1)         0         \n",
      "_________________________________________________________________\n",
      "conv2d_1 (Conv2D)            (None, 14, 14, 128)       1280      \n",
      "_________________________________________________________________\n",
      "conv2d_2 (Conv2D)            (None, 14, 14, 128)       16512     \n",
      "_________________________________________________________________\n",
      "flatten_2 (Flatten)          (None, 25088)             0         \n",
      "_________________________________________________________________\n",
      "dense_3 (Dense)              (None, 128)               3211392   \n",
      "_________________________________________________________________\n",
      "dense_4 (Dense)              (None, 256)               33024     \n",
      "_________________________________________________________________\n",
      "dense_5 (Dense)              (None, 10)                2570      \n",
      "=================================================================\n",
      "Total params: 3,264,778\n",
      "Trainable params: 3,264,778\n",
      "Non-trainable params: 0\n",
      "_________________________________________________________________\n"
     ]
    },
    {
     "name": "stderr",
     "output_type": "stream",
     "text": [
      "/home/satya/PycharmProjects/Capstone/cnn.py:57: UserWarning: Update your `Conv2D` call to the Keras 2 API: `Conv2D(filters=128, activation=\"relu\", kernel_size=(3, 3), padding=\"SAME\")`\n",
      "  padding='SAME'))\n",
      "/home/satya/PycharmProjects/Capstone/cnn.py:57: UserWarning: Update your `Conv2D` call to the Keras 2 API: `Conv2D(filters=128, activation=\"relu\", kernel_size=(1, 1), padding=\"SAME\")`\n",
      "  padding='SAME'))\n"
     ]
    },
    {
     "name": "stdout",
     "output_type": "stream",
     "text": [
      "Epoch 1/2\n",
      "48384/60000 [=======================>......] - ETA: 25s - loss: 0.1851 - acc: 0.9421"
     ]
    }
   ],
   "source": [
    "from agent import Agent\n",
    "a = Agent()\n",
    "a.update()\n"
   ]
  },
  {
   "cell_type": "code",
   "execution_count": null,
   "metadata": {},
   "outputs": [],
   "source": []
  }
 ],
 "metadata": {
  "kernelspec": {
   "display_name": "Python 2",
   "language": "python",
   "name": "python2"
  },
  "language_info": {
   "codemirror_mode": {
    "name": "ipython",
    "version": 3
   },
   "file_extension": ".py",
   "mimetype": "text/x-python",
   "name": "python",
   "nbconvert_exporter": "python",
   "pygments_lexer": "ipython3",
   "version": "3.4.3"
  }
 },
 "nbformat": 4,
 "nbformat_minor": 1
}
